{
 "cells": [
  {
   "cell_type": "markdown",
   "metadata": {},
   "source": [
    "# Machine Learning "
   ]
  },
  {
   "cell_type": "markdown",
   "metadata": {},
   "source": [
    "## Definition"
   ]
  },
  {
   "cell_type": "markdown",
   "metadata": {},
   "source": [
    "- Arthur Samuel (1959): \"The field of study that gives computers the ability to learn without being explicitly programmed.\"\n",
    "\n",
    "- Tom Mitchell (1998): \"A computer program is said to learn from experience E with respect to some class of tasks T and performance measure P, if its performance at tasks in T, as measured by P, improves with experience E.\""
   ]
  },
  {
   "cell_type": "markdown",
   "metadata": {},
   "source": [
    "## Types of Machine Learning Problems"
   ]
  },
  {
   "cell_type": "markdown",
   "metadata": {},
   "source": [
    "### Supervised Learning: \n",
    "We have sets of values for an (or several) independent and a dependent variable and by using Machine Learning we establish the relation between these without explicity program it. In Supervised Learning, in order to establish this relationship, we need to use real data, it is labeled sets of data in which for each input (value of the independent variable(s)) we already know the real output (value of the dependent variable). By using these real observations the models learn the relation between the independent and dependent variable, so given any input we are able to predict an output with certain accuracy. "
   ]
  },
  {
   "cell_type": "markdown",
   "metadata": {},
   "source": [
    "#### Superviesed Learning Techniques\n",
    "- Regression: Predict continuous values (numerical values), i.e. the value of a house, number of sells, etc. There are different types of Regression techniques:\n",
    "    - Linear Regression:\n",
    "        - Single Linear Regression\n",
    "        - Multiple Linear Regression\n",
    "    - Non-Linear Regression\n",
    "        - Polynomial Regression\n",
    "- Classification: Predict categorical values (non-numeric values), i.e. positive, negative, type 1, type 2, type 3, etc. There are different types of Classification techniques:\n",
    "    - K-Nearest Neighbours\n",
    "    - Decision Trees\n",
    "    - Logistic Regression\n",
    "    - Support Vector Machine\n"
   ]
  },
  {
   "cell_type": "markdown",
   "metadata": {},
   "source": [
    "### Unsupervised Learning:\n",
    "The model learns on it own to establish the relation between independent and dependent variable without being explicity programed and without using real data observations. In Unsupervised Learning, in order to establish this relationship, we also need to use real data, in this case unlabeled sets of data in which for each input (value of the independent variable(s)) we do not know the real output (value of the dependent variable), so the model will find the relation and given any input it will predict an output with a certain accuracy."
   ]
  },
  {
   "cell_type": "markdown",
   "metadata": {},
   "source": [
    "#### Unsuperviesed Learning Techniques\n",
    "- Clustering: Grouping data points, or objects that are somehow similar\n",
    "    - k-Means Clustering\n",
    "    - Hierarchical Clustering\n",
    "    - Density-based Clustering\n",
    "- Dimension Reduction (or Feature Selection): Reducing redundant features to make the classification easier.\n",
    "- Market Basket Analysis: If you buy a certain group of items, you will probably buy another set of items.\n",
    "- Density Estimation: Find some structure within it."
   ]
  },
  {
   "cell_type": "markdown",
   "metadata": {},
   "source": [
    "### Supervised VS Unsupervised:"
   ]
  },
  {
   "cell_type": "code",
   "execution_count": null,
   "metadata": {},
   "outputs": [],
   "source": []
  }
 ],
 "metadata": {
  "kernelspec": {
   "display_name": "Python 3.6 (XPython)",
   "language": "python",
   "name": "xpython"
  },
  "language_info": {
   "file_extension": ".py",
   "mimetype": "text/x-python",
   "name": "python",
   "version": "3.6.11"
  }
 },
 "nbformat": 4,
 "nbformat_minor": 4
}
